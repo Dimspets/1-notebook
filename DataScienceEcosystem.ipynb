{
 "cells": [
  {
   "cell_type": "markdown",
   "id": "7922a5b4-b509-4dcd-b2bf-697415a1426b",
   "metadata": {},
   "source": [
    "Data Science Tools and Ecosystem"
   ]
  },
  {
   "cell_type": "markdown",
   "id": "25d8f8d9-1540-4c4c-b2fa-00c02c6bd081",
   "metadata": {},
   "source": [
    "# Exercise 2: Create markdown cell with title of the notebook"
   ]
  },
  {
   "cell_type": "markdown",
   "id": "c07f0e2b-71fe-449a-b4df-08f1e888bedd",
   "metadata": {},
   "source": [
    "# Data Science Tools and Ecosystem"
   ]
  },
  {
   "cell_type": "markdown",
   "id": "3198e90a-f088-4d65-a725-936cfb8a025f",
   "metadata": {},
   "source": [
    "# Exercise 3 - Create a markdown cell for an introduction"
   ]
  },
  {
   "cell_type": "markdown",
   "id": "09b54a3d-9895-4757-8dab-9167ba18dddb",
   "metadata": {},
   "source": [
    "In this notebook, Data Science Tools and Ecosystem are summarized."
   ]
  },
  {
   "cell_type": "markdown",
   "id": "a03d1b4b-4d46-407d-8110-9a74eae6174a",
   "metadata": {},
   "source": [
    "# Exercise 4 - Create a markdown cell to list data science languages"
   ]
  },
  {
   "cell_type": "markdown",
   "id": "8b2a6f34-fe64-4dfc-937d-1da9a0507621",
   "metadata": {},
   "source": [
    "Some of the popular languages that Data Scientists use are:"
   ]
  },
  {
   "cell_type": "markdown",
   "id": "0f9d2aa1-c4cb-4326-8610-c19e190b4549",
   "metadata": {
    "tags": []
   },
   "source": [
    "1. Python\n",
    "2. R\n",
    "3. SQL\n",
    "4. Matlab"
   ]
  },
  {
   "cell_type": "markdown",
   "id": "355a16bc-7034-4cf6-a41f-a1a0952c7886",
   "metadata": {},
   "source": [
    "# Exercise 5 - Create a markdown cell to list data science libraries"
   ]
  },
  {
   "cell_type": "markdown",
   "id": "cd129866-ba42-4b5c-9426-83133ba1907e",
   "metadata": {},
   "source": [
    "Some of the commonly used libraries used by Data Scientists include:"
   ]
  },
  {
   "cell_type": "markdown",
   "id": "f55d8ec7-a466-4e38-89a8-e28f9e90e9a5",
   "metadata": {},
   "source": [
    "1. Pandas\n",
    "2. NumPy\n",
    "3. Tensorflow"
   ]
  },
  {
   "cell_type": "markdown",
   "id": "1feac036-9464-4d2a-9845-cc5eefcafac6",
   "metadata": {},
   "source": [
    "# Exercise 6 - Create a markdown cell with a table of Data Science tools"
   ]
  },
  {
   "cell_type": "markdown",
   "id": "91c03f01-d78c-4c1c-be86-2fce35dad025",
   "metadata": {},
   "source": [
    "| Data Science Tools |\n",
    "| -------------|\n",
    "|Github |\n",
    "| Jupyter|\n",
    "|RStudio IDE|\n"
   ]
  },
  {
   "cell_type": "markdown",
   "id": "a4e0d87e-88cd-4e47-9f02-bba694dbffa8",
   "metadata": {},
   "source": [
    "# Exercise 7 - Create a markdown cell introducing arithmetic expression examples"
   ]
  },
  {
   "cell_type": "markdown",
   "id": "f0c6d614-c788-412a-8d21-f397a6625419",
   "metadata": {},
   "source": [
    "### Below are a few examples of evaluating arithmetic expressions in Python"
   ]
  },
  {
   "cell_type": "markdown",
   "id": "fdd95ba6-e6b8-40ec-98f2-85362bd3a080",
   "metadata": {},
   "source": [
    "# Exercise 8 - Create a code cell to multiply and add numbers"
   ]
  },
  {
   "cell_type": "code",
   "execution_count": 2,
   "id": "bb3dd5d9-4858-4161-b24f-f925ca7cde5c",
   "metadata": {
    "tags": []
   },
   "outputs": [
    {
     "name": "stdout",
     "output_type": "stream",
     "text": [
      "17\n"
     ]
    }
   ],
   "source": [
    "# This a simple arithmetic expression to mutiply then add integers\n",
    "\n",
    "a=(3*4)+5\n",
    "print(a)"
   ]
  },
  {
   "cell_type": "markdown",
   "id": "18f3b116-e727-4d6f-9ad0-1d34051a86bc",
   "metadata": {},
   "source": [
    "# Exercise 9 - Create a code cell to convert minutes to hours"
   ]
  },
  {
   "cell_type": "code",
   "execution_count": 4,
   "id": "ba01255c-43c4-4dcf-b220-aa35218bd3d0",
   "metadata": {
    "tags": []
   },
   "outputs": [
    {
     "name": "stdout",
     "output_type": "stream",
     "text": [
      "Hours: 3\n",
      "Minutes: 20\n"
     ]
    }
   ],
   "source": [
    "# This will convert 200 minutes to hours by diving by 60\n",
    "\n",
    "mins=200\n",
    "hours=mins//60\n",
    "minutes=mins%60\n",
    "print(\"Hours:\",hours)\n",
    "print(\"Minutes:\",minutes)"
   ]
  },
  {
   "cell_type": "markdown",
   "id": "9544cca8-758b-4ce5-af16-2c638aa3677b",
   "metadata": {},
   "source": [
    "# Exercise 10 - Insert a markdown cell to list Objectives"
   ]
  },
  {
   "cell_type": "markdown",
   "id": "48a82c34-6b80-4c1b-9ea1-4b2ac0f20af8",
   "metadata": {},
   "source": [
    "In this notebook, Data Science Tools and Ecosystem are summarized."
   ]
  },
  {
   "cell_type": "markdown",
   "id": "cbde219f-0859-433f-a042-3023474e5d21",
   "metadata": {},
   "source": [
    "**Objectives:**\n",
    "\n",
    "* List of Data Science languages\n",
    "* List of Data Science libraries\n",
    "* List of Data Science Tools\n",
    "    "
   ]
  },
  {
   "cell_type": "markdown",
   "id": "8407ec11-c56b-4029-b5d4-0fb610b9ae2d",
   "metadata": {},
   "source": [
    "# Exercise 11 - Create a markdown cell to indicate the Author's name"
   ]
  },
  {
   "cell_type": "markdown",
   "id": "060b7da9-e911-4642-9a06-b0bd1c0dd2fe",
   "metadata": {},
   "source": [
    "## Author\n",
    "Dim Spetsiotis"
   ]
  },
  {
   "cell_type": "markdown",
   "id": "e1c9a741-354a-48a0-b784-c3eff80640ab",
   "metadata": {},
   "source": [
    "# Exercise 12 - Share your notebook through GitHub"
   ]
  },
  {
   "cell_type": "markdown",
   "id": "a85d3831-7a2e-48ed-8ed3-cc4ed95bee0a",
   "metadata": {},
   "source": [
    "# Exercise 13 -Take a screenshot of the first page of the notebook and save it"
   ]
  },
  {
   "cell_type": "code",
   "execution_count": null,
   "id": "ac5fd1e6-f986-424d-9b22-dd33fac4accd",
   "metadata": {},
   "outputs": [],
   "source": []
  }
 ],
 "metadata": {
  "kernelspec": {
   "display_name": "Python",
   "language": "python",
   "name": "conda-env-python-py"
  },
  "language_info": {
   "codemirror_mode": {
    "name": "ipython",
    "version": 3
   },
   "file_extension": ".py",
   "mimetype": "text/x-python",
   "name": "python",
   "nbconvert_exporter": "python",
   "pygments_lexer": "ipython3",
   "version": "3.7.12"
  }
 },
 "nbformat": 4,
 "nbformat_minor": 5
}
